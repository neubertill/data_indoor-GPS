{
 "cells": [
  {
   "cell_type": "markdown",
   "id": "69d1a0bb-3851-4a0c-83d4-e0bfa57af0d9",
   "metadata": {},
   "source": [
    "# Evaluation"
   ]
  },
  {
   "cell_type": "code",
   "execution_count": null,
   "id": "07bc2bed-7c39-4b4e-9c82-235d23e93cb9",
   "metadata": {},
   "outputs": [],
   "source": [
    "!pip install pandas seaborn"
   ]
  },
  {
   "cell_type": "code",
   "execution_count": 1,
   "id": "0fb251ca-7651-4e2e-92a0-3fad5a9a0df2",
   "metadata": {},
   "outputs": [],
   "source": [
    "import pandas as pd #for working with dataframes\n",
    "import numpy as np #for numerical and vector operations"
   ]
  },
  {
   "cell_type": "code",
   "execution_count": 2,
   "id": "8109895b-015c-4f9d-94eb-e96a497c793c",
   "metadata": {},
   "outputs": [],
   "source": [
    "x_mean=[]\n",
    "y_mean=[]\n",
    "mean=[]\n",
    "x_std=[]\n",
    "y_std=[]\n",
    "std=[]\n",
    "uncertainty=[]\n",
    "confidence_level=[]"
   ]
  },
  {
   "cell_type": "markdown",
   "id": "7a86d351-5689-4bd7-8465-d2fbdc0a5160",
   "metadata": {},
   "source": [
    "## Scenario 1"
   ]
  },
  {
   "cell_type": "code",
   "execution_count": 3,
   "id": "f98f0827-d749-4b56-aaaf-b9899e438bfa",
   "metadata": {},
   "outputs": [
    {
     "name": "stdout",
     "output_type": "stream",
     "text": [
      "   Localino   xL  yL Reference      xR      yR\n",
      "0       L01 -223   9       R01 -231.15   39.22\n",
      "1       L02 -233   4       R02 -230.35   49.01\n",
      "2       L03 -241   2       R03 -230.56   58.54\n",
      "3       L04 -197  35       R04 -230.27   69.41\n",
      "4       L05 -223 -15       R05 -230.72   78.93\n",
      "5       L06 -218  -7       R06 -230.07   88.67\n",
      "6       L07 -231 -23       R07 -230.60   98.57\n",
      "7       L08 -250 -80       R08 -231.05  107.96\n",
      "8       L09 -219 -81       R09 -220.97  108.00\n",
      "9       L10 -213 -27       R10 -210.68  107.17\n",
      "10      L11 -105 -12       R11 -200.98  107.68\n",
      "11      L12   17  53       R12 -191.04  108.02\n",
      "12      L13 -127 -59       R13 -181.00  107.89\n",
      "13      L14  134  46       R14 -171.01  107.85\n",
      "14      L15  229  63       R15 -161.40  107.51\n",
      "15      L16   51 -14       R16 -151.69  107.67\n",
      "16      L17  -79   0       R17 -150.70   97.80\n",
      "17      L18  187  52       R18 -151.44   87.83\n",
      "18      L19   83  28       R19 -151.58   78.12\n",
      "19      L20  -60   7       R20 -151.68   68.92\n",
      "20      L21 -118 -31       R21 -151.90   58.55\n",
      "21      L22 -145 -75       R22 -150.88   49.31\n",
      "22      L23 -132 -45       R23 -151.65   39.13\n",
      "23      L24 -122 -31       R24 -160.49   38.45\n",
      "24      L25 -168 -52       R25 -170.89   38.68\n",
      "25      L26 -200 -58       R26 -181.13   38.28\n",
      "26      L27 -162  -5       R27 -191.38   38.55\n",
      "27      L28 -211 -74       R28 -201.21   38.80\n",
      "28      L29 -224 -81       R29 -210.65   38.36\n",
      "29      L30 -223 -80       R30 -221.47   38.48\n",
      "30      L31 -130   6       R31 -191.58   77.92\n"
     ]
    }
   ],
   "source": [
    "df1=pd.read_csv(\"../Data/Scenario1.csv\", sep= ';',header=0)\n",
    "print(df1)\n",
    "xR=np.asarray(df1[\"xR\"])\n",
    "yR=np.asarray(df1[\"yR\"])\n",
    "\n",
    "xL=np.asarray(df1[\"xL\"])\n",
    "yL=np.asarray(df1[\"yL\"])\n",
    "number_of_samples=len(xR)\n",
    "t=2.05 # from table\n",
    "scenario_no=0 # for index in arrays "
   ]
  },
  {
   "cell_type": "code",
   "execution_count": 4,
   "id": "901ea872-99ed-4c47-b82c-0023ea88a279",
   "metadata": {},
   "outputs": [
    {
     "name": "stdout",
     "output_type": "stream",
     "text": [
      "x mean: 75.02483870967743\n"
     ]
    }
   ],
   "source": [
    "x_mean.append(np.mean(abs(xR-xL)))\n",
    "print(\"x mean:\", x_mean[scenario_no])"
   ]
  },
  {
   "cell_type": "code",
   "execution_count": 5,
   "id": "b0de1ba4-1c09-4335-b0e6-73979500a574",
   "metadata": {},
   "outputs": [
    {
     "name": "stdout",
     "output_type": "stream",
     "text": [
      "y mean: 91.10580645161292\n"
     ]
    }
   ],
   "source": [
    "y_mean.append(np.mean(abs(yR-yL)))\n",
    "print(\"y mean:\", y_mean[scenario_no])"
   ]
  },
  {
   "cell_type": "code",
   "execution_count": 6,
   "id": "39b38871-ddf5-4076-a0de-762b63c1b777",
   "metadata": {},
   "outputs": [
    {
     "name": "stdout",
     "output_type": "stream",
     "text": [
      "mean: 141.18208257784815\n"
     ]
    }
   ],
   "source": [
    "distance_0=np.sqrt((xR-xL)**2+(yR-yL)**2)\n",
    "mean.append(np.mean(distance_0))\n",
    "print(\"mean:\", mean[scenario_no])"
   ]
  },
  {
   "cell_type": "code",
   "execution_count": 7,
   "id": "0fa0e4e3-0b78-419d-9107-21b0e3f3a39c",
   "metadata": {},
   "outputs": [
    {
     "name": "stdout",
     "output_type": "stream",
     "text": [
      "x standard deviation: 109.66174452594268\n"
     ]
    }
   ],
   "source": [
    "x_std.append(np.std(abs(xR-xL),ddof=1))\n",
    "print(\"x standard deviation:\", x_std[scenario_no])"
   ]
  },
  {
   "cell_type": "code",
   "execution_count": 8,
   "id": "5f5c0a97-df11-48f1-a2f4-07c490a903ff",
   "metadata": {},
   "outputs": [
    {
     "name": "stdout",
     "output_type": "stream",
     "text": [
      "y standard deviation: 43.115741191525665\n"
     ]
    }
   ],
   "source": [
    "y_std.append(np.std(abs(yR-yL),ddof=1))\n",
    "print(\"y standard deviation:\", y_std[scenario_no])"
   ]
  },
  {
   "cell_type": "code",
   "execution_count": 9,
   "id": "e9228ff6-6b6b-4c58-87ce-8fbc977ba3dc",
   "metadata": {},
   "outputs": [
    {
     "name": "stdout",
     "output_type": "stream",
     "text": [
      "standard deviation: 87.64226397281763\n"
     ]
    }
   ],
   "source": [
    "std.append(np.std(distance_0,ddof=1))\n",
    "print(\"standard deviation:\", std[scenario_no])"
   ]
  },
  {
   "cell_type": "code",
   "execution_count": 10,
   "id": "97ff7c46-8ecd-4d9e-afe5-180e567c7e74",
   "metadata": {},
   "outputs": [
    {
     "name": "stdout",
     "output_type": "stream",
     "text": [
      "standard uncertainty: 15.741015291148244\n"
     ]
    }
   ],
   "source": [
    "uncertainty.append(std[scenario_no]/np.sqrt(number_of_samples))\n",
    "print(\"standard uncertainty:\", uncertainty[scenario_no])"
   ]
  },
  {
   "cell_type": "code",
   "execution_count": 11,
   "id": "1ca491f3-301e-49b2-888a-a7c7fe3ee7b4",
   "metadata": {},
   "outputs": [
    {
     "name": "stdout",
     "output_type": "stream",
     "text": [
      "confidence level: 32.269081346853895\n"
     ]
    }
   ],
   "source": [
    "confidence_level.append(t*(std[scenario_no]/np.sqrt(number_of_samples)))\n",
    "print(\"confidence level:\",confidence_level[scenario_no])"
   ]
  },
  {
   "cell_type": "code",
   "execution_count": 12,
   "id": "08a8fa25-3723-43d0-a9a8-af74b11c62cb",
   "metadata": {},
   "outputs": [
    {
     "name": "stdout",
     "output_type": "stream",
     "text": [
      "Confidence interval:  87.64226397281763  +-  32.269081346853895\n"
     ]
    }
   ],
   "source": [
    "print(\"Confidence interval: \",std[scenario_no],\" +- \",confidence_level[scenario_no])"
   ]
  },
  {
   "cell_type": "markdown",
   "id": "baca28c5-63aa-49dd-a9ae-0acd09c4918a",
   "metadata": {
    "tags": []
   },
   "source": [
    "## Scenario 2"
   ]
  },
  {
   "cell_type": "code",
   "execution_count": 13,
   "id": "2e8ea808-8a23-4980-bba5-45a20d5bb0d7",
   "metadata": {},
   "outputs": [
    {
     "name": "stdout",
     "output_type": "stream",
     "text": [
      "   Localino   xL   yL Reference      xR      yR\n",
      "0       L01 -227   13       R01 -230.89   38.80\n",
      "1       L02 -263   16       R02 -230.65   49.04\n",
      "2       L03 -238    3       R03 -230.66   58.89\n",
      "3       L04 -245   34       R04 -229.87   69.09\n",
      "4       L05 -237   18       R05 -230.91   78.73\n",
      "5       L06 -246   40       R06 -230.49   88.62\n",
      "6       L07 -239   56       R07 -230.34   99.02\n",
      "7       L08 -242 -127       R08 -231.08  107.77\n",
      "8       L09 -256   61       R09 -220.66  109.34\n",
      "9       L10 -267   89       R10 -210.90  107.71\n",
      "10      L11 -223   35       R11 -200.75  107.96\n",
      "11      L12 -196   71       R12 -190.99  107.96\n",
      "12      L13 -191   38       R13 -180.89  107.81\n",
      "13      L14 -176   60       R14 -170.53  107.72\n",
      "14      L15 -168   84       R15 -160.84  108.58\n",
      "15      L16 -156   59       R16 -150.58  107.60\n",
      "16      L17 -158   55       R17 -151.02   98.02\n",
      "17      L18 -154   56       R18 -152.05   88.36\n",
      "18      L19 -135   69       R19 -151.69   78.48\n",
      "19      L20 -161   21       R20 -151.76   68.75\n",
      "20      L21 -154    6       R21 -151.80   58.54\n",
      "21      L22 -147   -6       R22 -151.88   49.13\n",
      "22      L23 -144  -43       R23 -151.06   39.37\n",
      "23      L24 -157   -5       R24 -161.24   39.08\n",
      "24      L25 -165   15       R25 -170.51   38.77\n",
      "25      L26 -194  -48       R26 -180.45   38.71\n",
      "26      L27 -190   -3       R27 -191.51   38.16\n",
      "27      L28 -201  -16       R28 -200.74   38.48\n",
      "28      L29 -211 -105       R29 -210.96   38.64\n",
      "29      L30 -220   -2       R30 -220.69   38.79\n",
      "30      L31 -210    8       R31 -190.97   78.65\n"
     ]
    }
   ],
   "source": [
    "df1=pd.read_csv(\"../Data/Scenario2.csv\", sep= ';',header=0)\n",
    "print(df1)\n",
    "xR=np.asarray(df1[\"xR\"])\n",
    "yR=np.asarray(df1[\"yR\"])\n",
    "\n",
    "xL=np.asarray(df1[\"xL\"])\n",
    "yL=np.asarray(df1[\"yL\"])\n",
    "number_of_samples=len(xR)\n",
    "t=2.05 # from table\n",
    "scenario_no=1 # for index in arrays "
   ]
  },
  {
   "cell_type": "code",
   "execution_count": 14,
   "id": "193b74fb-fd97-45b1-8d7a-fc71473f6417",
   "metadata": {},
   "outputs": [
    {
     "name": "stdout",
     "output_type": "stream",
     "text": [
      "x mean: 10.986451612903224\n"
     ]
    }
   ],
   "source": [
    "x_mean.append(np.mean(abs(xR-xL)))\n",
    "print(\"x mean:\", x_mean[scenario_no])"
   ]
  },
  {
   "cell_type": "code",
   "execution_count": 15,
   "id": "4bef76ae-025d-4d09-af5c-cdde741d0cf0",
   "metadata": {},
   "outputs": [
    {
     "name": "stdout",
     "output_type": "stream",
     "text": [
      "y mean: 55.889354838709686\n"
     ]
    }
   ],
   "source": [
    "y_mean.append(np.mean(abs(yR-yL)))\n",
    "print(\"y mean:\", y_mean[scenario_no])"
   ]
  },
  {
   "cell_type": "code",
   "execution_count": 16,
   "id": "0eb2e798-a2d3-4259-a9ae-3b25992ec71a",
   "metadata": {},
   "outputs": [
    {
     "name": "stdout",
     "output_type": "stream",
     "text": [
      "mean: 58.95840615491077\n"
     ]
    }
   ],
   "source": [
    "distance_0=np.sqrt((xR-xL)**2+(yR-yL)**2)\n",
    "mean.append(np.mean(distance_0))\n",
    "print(\"mean:\", mean[scenario_no])"
   ]
  },
  {
   "cell_type": "code",
   "execution_count": 17,
   "id": "18bebc0c-57bd-488f-9e5e-835e2a753c19",
   "metadata": {},
   "outputs": [
    {
     "name": "stdout",
     "output_type": "stream",
     "text": [
      "x standard deviation: 11.96591814234275\n"
     ]
    }
   ],
   "source": [
    "x_std.append(np.std(abs(xR-xL),ddof=1))\n",
    "print(\"x standard deviation:\", x_std[scenario_no])"
   ]
  },
  {
   "cell_type": "code",
   "execution_count": 18,
   "id": "ea38a88f-3889-4adc-aaf0-f0afe3e3a111",
   "metadata": {},
   "outputs": [
    {
     "name": "stdout",
     "output_type": "stream",
     "text": [
      "y standard deviation: 41.48155035157066\n"
     ]
    }
   ],
   "source": [
    "y_std.append(np.std(abs(yR-yL),ddof=1))\n",
    "print(\"y standard deviation:\", y_std[scenario_no])"
   ]
  },
  {
   "cell_type": "code",
   "execution_count": 19,
   "id": "af91fd07-7736-42fb-81fc-741af02f25f7",
   "metadata": {},
   "outputs": [
    {
     "name": "stdout",
     "output_type": "stream",
     "text": [
      "standard deviation: 40.30390731837712\n"
     ]
    }
   ],
   "source": [
    "std.append(np.std(distance_0,ddof=1))\n",
    "print(\"standard deviation:\", std[scenario_no])"
   ]
  },
  {
   "cell_type": "code",
   "execution_count": 20,
   "id": "d864385c-267d-4101-9202-3f7f92358647",
   "metadata": {},
   "outputs": [
    {
     "name": "stdout",
     "output_type": "stream",
     "text": [
      "standard uncertainty: 7.238795446776266\n"
     ]
    }
   ],
   "source": [
    "uncertainty.append(std[scenario_no]/np.sqrt(number_of_samples))\n",
    "print(\"standard uncertainty:\", uncertainty[scenario_no])"
   ]
  },
  {
   "cell_type": "code",
   "execution_count": 21,
   "id": "7246efe9-a53d-4153-93af-8bb7052544e1",
   "metadata": {},
   "outputs": [
    {
     "name": "stdout",
     "output_type": "stream",
     "text": [
      "confidence level: 14.839530665891346\n"
     ]
    }
   ],
   "source": [
    "confidence_level.append(t*(std[scenario_no]/np.sqrt(number_of_samples)))\n",
    "print(\"confidence level:\",confidence_level[scenario_no])"
   ]
  },
  {
   "cell_type": "code",
   "execution_count": 22,
   "id": "0dde6923-2c10-4511-b087-7f98930b6dcf",
   "metadata": {},
   "outputs": [
    {
     "name": "stdout",
     "output_type": "stream",
     "text": [
      "Confidence interval:  40.30390731837712  +-  14.839530665891346\n"
     ]
    }
   ],
   "source": [
    "print(\"Confidence interval: \",std[scenario_no],\" +- \",confidence_level[scenario_no])"
   ]
  },
  {
   "cell_type": "markdown",
   "id": "84420e4d-f1b9-4567-863d-948c66b48700",
   "metadata": {
    "tags": []
   },
   "source": [
    "## Scenario 3"
   ]
  },
  {
   "cell_type": "code",
   "execution_count": 23,
   "id": "5e8c3285-2285-435a-8201-4f4217f79d72",
   "metadata": {},
   "outputs": [
    {
     "name": "stdout",
     "output_type": "stream",
     "text": [
      "   Localino   xL   yL Reference      xR      yR\n",
      "0       L01 -227   26       R01 -231.31   38.90\n",
      "1       L02 -227   18       R02 -231.34   48.62\n",
      "2       L03 -222   72       R03 -230.89   58.00\n",
      "3       L04 -226   78       R04 -230.67   68.49\n",
      "4       L05 -230   48       R05 -230.82   77.79\n",
      "5       L06 -235   88       R06 -231.14   88.15\n",
      "6       L07 -234   99       R07 -230.36   97.51\n",
      "7       L08 -236  101       R08 -231.11  107.31\n",
      "8       L09 -226  129       R09 -221.25  107.61\n",
      "9       L10 -211  134       R10 -210.59  107.80\n",
      "10      L11 -203  116       R11 -201.77  107.31\n",
      "11      L12 -189  124       R12 -191.70  107.72\n",
      "12      L13 -179  108       R13 -181.32  107.42\n",
      "13      L14 -169  104       R14 -171.27  108.01\n",
      "14      L15 -156  127       R15 -160.83  107.76\n",
      "15      L16 -145  111       R16 -151.63  107.46\n",
      "16      L17 -147  103       R17 -150.82   98.13\n",
      "17      L18 -143   93       R18 -150.89   87.68\n",
      "18      L19 -139   84       R19 -151.59   78.47\n",
      "19      L20 -151   56       R20 -151.69   69.13\n",
      "20      L21 -143   51       R21 -151.18   58.28\n",
      "21      L22 -133   30       R22 -151.13   48.53\n",
      "22      L23 -142   -8       R23 -151.36   39.24\n",
      "23      L24 -152   14       R24 -161.02   38.90\n",
      "24      L25 -166    5       R25 -170.72   38.74\n",
      "25      L26 -181    3       R26 -180.78   38.32\n",
      "26      L27 -187   29       R27 -190.54   38.21\n",
      "27      L28 -190   18       R28 -200.18   38.56\n",
      "28      L29 -204   -5       R29 -210.69   38.53\n",
      "29      L30 -212   36       R30 -220.91   38.62\n",
      "30      L31 -190   94       R31 -191.92   77.60\n"
     ]
    }
   ],
   "source": [
    "df1=pd.read_csv(\"../Data/Scenario3.csv\", sep= ';',header=0)\n",
    "print(df1)\n",
    "xR=np.asarray(df1[\"xR\"])\n",
    "yR=np.asarray(df1[\"yR\"])\n",
    "\n",
    "xL=np.asarray(df1[\"xL\"])\n",
    "yL=np.asarray(df1[\"yL\"])\n",
    "number_of_samples=len(xR)\n",
    "t=2.05 # from table\n",
    "scenario_no=2 # for index in arrays "
   ]
  },
  {
   "cell_type": "code",
   "execution_count": 24,
   "id": "31169016-7b65-46b8-abb9-c46c7f5f4ca4",
   "metadata": {},
   "outputs": [
    {
     "name": "stdout",
     "output_type": "stream",
     "text": [
      "x mean: 5.368387096774192\n"
     ]
    }
   ],
   "source": [
    "x_mean.append(np.mean(abs(xR-xL)))\n",
    "print(\"x mean:\", x_mean[scenario_no])"
   ]
  },
  {
   "cell_type": "code",
   "execution_count": 25,
   "id": "32d789e0-55f2-4408-8d33-c19d9ffc7440",
   "metadata": {},
   "outputs": [
    {
     "name": "stdout",
     "output_type": "stream",
     "text": [
      "y mean: 15.899354838709677\n"
     ]
    }
   ],
   "source": [
    "y_mean.append(np.mean(abs(yR-yL)))\n",
    "print(\"y mean:\", y_mean[scenario_no])"
   ]
  },
  {
   "cell_type": "code",
   "execution_count": 26,
   "id": "cfdf6398-6f9d-441b-82c5-9533981d0e4f",
   "metadata": {},
   "outputs": [
    {
     "name": "stdout",
     "output_type": "stream",
     "text": [
      "mean: 17.78035824469076\n"
     ]
    }
   ],
   "source": [
    "distance_0=np.sqrt((xR-xL)**2+(yR-yL)**2)\n",
    "mean.append(np.mean(distance_0))\n",
    "print(\"mean:\", mean[scenario_no])"
   ]
  },
  {
   "cell_type": "code",
   "execution_count": 27,
   "id": "afa843bb-5f1b-417e-97d7-26168eaa4ea7",
   "metadata": {},
   "outputs": [
    {
     "name": "stdout",
     "output_type": "stream",
     "text": [
      "x standard deviation: 3.9735098647368807\n"
     ]
    }
   ],
   "source": [
    "x_std.append(np.std(abs(xR-xL),ddof=1))\n",
    "print(\"x standard deviation:\", x_std[scenario_no])"
   ]
  },
  {
   "cell_type": "code",
   "execution_count": 28,
   "id": "93f0ac0c-1a10-4a8c-8187-fbb086bc0655",
   "metadata": {},
   "outputs": [
    {
     "name": "stdout",
     "output_type": "stream",
     "text": [
      "y standard deviation: 12.824732079198606\n"
     ]
    }
   ],
   "source": [
    "y_std.append(np.std(abs(yR-yL),ddof=1))\n",
    "print(\"y standard deviation:\", y_std[scenario_no])"
   ]
  },
  {
   "cell_type": "code",
   "execution_count": 29,
   "id": "dbc9f67d-a19e-4821-bcc7-7e3028fe09d5",
   "metadata": {},
   "outputs": [
    {
     "name": "stdout",
     "output_type": "stream",
     "text": [
      "standard deviation: 12.024116989622955\n"
     ]
    }
   ],
   "source": [
    "std.append(np.std(distance_0,ddof=1))\n",
    "print(\"standard deviation:\", std[scenario_no])"
   ]
  },
  {
   "cell_type": "code",
   "execution_count": 30,
   "id": "e002104e-f2f8-42b9-9129-14d807118907",
   "metadata": {},
   "outputs": [
    {
     "name": "stdout",
     "output_type": "stream",
     "text": [
      "standard uncertainty: 2.1595951635265065\n"
     ]
    }
   ],
   "source": [
    "uncertainty.append(std[scenario_no]/np.sqrt(number_of_samples))\n",
    "print(\"standard uncertainty:\", uncertainty[scenario_no])"
   ]
  },
  {
   "cell_type": "code",
   "execution_count": 31,
   "id": "1dd41677-e48d-433d-b859-fb123daad0f3",
   "metadata": {},
   "outputs": [
    {
     "name": "stdout",
     "output_type": "stream",
     "text": [
      "confidence level: 4.427170085229338\n"
     ]
    }
   ],
   "source": [
    "confidence_level.append(t*(std[scenario_no]/np.sqrt(number_of_samples)))\n",
    "print(\"confidence level:\",confidence_level[scenario_no])"
   ]
  },
  {
   "cell_type": "code",
   "execution_count": 32,
   "id": "79c4deef-54f2-4cd8-b5b7-96846a6db8b8",
   "metadata": {},
   "outputs": [
    {
     "name": "stdout",
     "output_type": "stream",
     "text": [
      "Confidence interval:  12.024116989622955  +-  4.427170085229338\n"
     ]
    }
   ],
   "source": [
    "print(\"Confidence interval: \",std[scenario_no],\" +- \",confidence_level[scenario_no])"
   ]
  },
  {
   "cell_type": "markdown",
   "id": "995372d7-10df-4e9e-a484-1dacdb9c6fbb",
   "metadata": {},
   "source": [
    "## Scenario 4"
   ]
  },
  {
   "cell_type": "code",
   "execution_count": 33,
   "id": "08e8ddc2-ce88-4728-a866-12cceefbe109",
   "metadata": {},
   "outputs": [
    {
     "name": "stdout",
     "output_type": "stream",
     "text": [
      "   Localino   xL   yL Reference      xR      yR\n",
      "0       L01 -229   33       R01 -228.95   40.25\n",
      "1       L02 -229   43       R02 -228.87   50.08\n",
      "2       L03 -222   54       R03 -228.94   59.53\n",
      "3       L04 -225   61       R04 -228.75   69.49\n",
      "4       L05 -224   73       R05 -228.45   79.57\n",
      "5       L06 -222   82       R06 -228.69   88.74\n",
      "6       L07 -223   89       R07 -228.89   98.54\n",
      "7       L08 -231  106       R08 -229.10  109.18\n",
      "8       L09 -223  106       R09 -219.35  109.28\n",
      "9       L10 -213  102       R10 -209.70  109.45\n",
      "10      L11 -199   99       R11 -199.57  109.25\n",
      "11      L12 -189   94       R12 -189.38  109.27\n",
      "12      L13 -179   93       R13 -179.14  109.14\n",
      "13      L14 -175   95       R14 -169.26  109.38\n",
      "14      L15 -160   96       R15 -159.26  109.70\n",
      "15      L16 -150   91       R16 -149.54  109.93\n",
      "16      L17 -147   80       R17 -149.49  100.40\n",
      "17      L18 -149   75       R18 -149.31   90.46\n",
      "18      L19 -149   62       R19 -151.15   80.56\n",
      "19      L20 -151   55       R20 -150.23   70.22\n",
      "20      L21 -150   32       R21 -149.28   60.32\n",
      "21      L22 -145   28       R22 -149.04   50.46\n",
      "22      L23 -144   22       R23 -149.60   40.52\n",
      "23      L24 -155   24       R24 -159.39   40.11\n",
      "24      L25 -169   27       R25 -169.10   39.96\n",
      "25      L26 -175   20       R26 -178.57   39.74\n",
      "26      L27 -186   21       R27 -188.66   39.65\n",
      "27      L28 -200   24       R28 -198.90   39.44\n",
      "28      L29 -208   24       R29 -208.69   39.98\n",
      "29      L30 -218   28       R30 -218.30   39.72\n",
      "30      L31 -200   54       R31 -189.95   79.29\n"
     ]
    }
   ],
   "source": [
    "df1=pd.read_csv(\"../Data/Scenario4.csv\", sep= ';',header=0)\n",
    "print(df1)\n",
    "xR=np.asarray(df1[\"xR\"])\n",
    "yR=np.asarray(df1[\"yR\"])\n",
    "\n",
    "xL=np.asarray(df1[\"xL\"])\n",
    "yL=np.asarray(df1[\"yL\"])\n",
    "number_of_samples=len(xR)\n",
    "t=2.05 # from table\n",
    "scenario_no=3 # for index in arrays "
   ]
  },
  {
   "cell_type": "code",
   "execution_count": 34,
   "id": "14509a34-6503-4702-8656-1513c4050845",
   "metadata": {},
   "outputs": [
    {
     "name": "stdout",
     "output_type": "stream",
     "text": [
      "x mean: 2.7006451612903226\n"
     ]
    }
   ],
   "source": [
    "x_mean.append(np.mean(abs(xR-xL)))\n",
    "print(\"x mean:\", x_mean[scenario_no])"
   ]
  },
  {
   "cell_type": "code",
   "execution_count": 35,
   "id": "81cd718a-b0de-4ff3-8ed8-c371eafdd53a",
   "metadata": {},
   "outputs": [
    {
     "name": "stdout",
     "output_type": "stream",
     "text": [
      "y mean: 13.826129032258066\n"
     ]
    }
   ],
   "source": [
    "y_mean.append(np.mean(abs(yR-yL)))\n",
    "print(\"y mean:\", y_mean[scenario_no])"
   ]
  },
  {
   "cell_type": "code",
   "execution_count": 36,
   "id": "08eadb4e-e3d9-40f9-a42d-6a35a8ac6746",
   "metadata": {},
   "outputs": [
    {
     "name": "stdout",
     "output_type": "stream",
     "text": [
      "mean: 14.423029834609201\n"
     ]
    }
   ],
   "source": [
    "distance_0=np.sqrt((xR-xL)**2+(yR-yL)**2)\n",
    "mean.append(np.mean(distance_0))\n",
    "print(\"mean:\", mean[scenario_no])"
   ]
  },
  {
   "cell_type": "code",
   "execution_count": 37,
   "id": "fa5e3b2d-87fc-4287-b45b-bd59678200f8",
   "metadata": {},
   "outputs": [
    {
     "name": "stdout",
     "output_type": "stream",
     "text": [
      "x standard deviation: 2.575585286860536\n"
     ]
    }
   ],
   "source": [
    "x_std.append(np.std(abs(xR-xL),ddof=1))\n",
    "print(\"x standard deviation:\", x_std[scenario_no])"
   ]
  },
  {
   "cell_type": "code",
   "execution_count": 38,
   "id": "1e1edef1-d824-4d26-b5b9-2980584ed0f7",
   "metadata": {},
   "outputs": [
    {
     "name": "stdout",
     "output_type": "stream",
     "text": [
      "y standard deviation: 6.333252812164987\n"
     ]
    }
   ],
   "source": [
    "y_std.append(np.std(abs(yR-yL),ddof=1))\n",
    "print(\"y standard deviation:\", y_std[scenario_no])"
   ]
  },
  {
   "cell_type": "code",
   "execution_count": 39,
   "id": "8ca37826-4e47-4d56-91ba-d3c5ea6e2fe3",
   "metadata": {},
   "outputs": [
    {
     "name": "stdout",
     "output_type": "stream",
     "text": [
      "standard deviation: 6.070940679689218\n"
     ]
    }
   ],
   "source": [
    "std.append(np.std(distance_0,ddof=1))\n",
    "print(\"standard deviation:\", std[scenario_no])"
   ]
  },
  {
   "cell_type": "code",
   "execution_count": 40,
   "id": "e6187467-7169-4a39-92fe-da2eba43c48b",
   "metadata": {},
   "outputs": [
    {
     "name": "stdout",
     "output_type": "stream",
     "text": [
      "standard uncertainty: 1.0903731343622163\n"
     ]
    }
   ],
   "source": [
    "uncertainty.append(std[scenario_no]/np.sqrt(number_of_samples))\n",
    "print(\"standard uncertainty:\", uncertainty[scenario_no])"
   ]
  },
  {
   "cell_type": "code",
   "execution_count": 41,
   "id": "b6af4187-e5e0-46f4-af9f-131c7ab4b62f",
   "metadata": {},
   "outputs": [
    {
     "name": "stdout",
     "output_type": "stream",
     "text": [
      "confidence level: 2.235264925442543\n"
     ]
    }
   ],
   "source": [
    "confidence_level.append(t*(std[scenario_no]/np.sqrt(number_of_samples)))\n",
    "print(\"confidence level:\",confidence_level[scenario_no])"
   ]
  },
  {
   "cell_type": "code",
   "execution_count": 42,
   "id": "c647813c-5cc3-44b6-885d-13c87da5c966",
   "metadata": {},
   "outputs": [
    {
     "name": "stdout",
     "output_type": "stream",
     "text": [
      "Confidence interval:  6.070940679689218  +-  2.235264925442543\n"
     ]
    }
   ],
   "source": [
    "print(\"Confidence interval: \",std[scenario_no],\" +- \",confidence_level[scenario_no])"
   ]
  },
  {
   "cell_type": "markdown",
   "id": "90bd01f0-e319-4b64-a98d-0a982ef02edf",
   "metadata": {},
   "source": [
    "## Comparison table"
   ]
  },
  {
   "cell_type": "code",
   "execution_count": 43,
   "id": "f6954c1d-f343-41b2-bb3c-178e5a75fa96",
   "metadata": {},
   "outputs": [],
   "source": [
    "# Create a skeleton of the table\n",
    "comp_table = pd.DataFrame(index=['x mean', 'y mean','mean','x std','y std', 'std', 'uncertainty','confidence level'], \n",
    "                          columns=['Scenario 1', 'Scenario 2', 'Scenario 3', 'Scenario 4'])"
   ]
  },
  {
   "cell_type": "code",
   "execution_count": 44,
   "id": "a2469d0c-a1ba-4306-940b-8f4ff663039a",
   "metadata": {},
   "outputs": [],
   "source": [
    "# Add values to the table\n",
    "comp_table.iloc[0] = x_mean\n",
    "comp_table.iloc[1] = y_mean\n",
    "comp_table.iloc[2] = mean\n",
    "comp_table.iloc[3] = x_std\n",
    "comp_table.iloc[4] = y_std\n",
    "comp_table.iloc[5] = std\n",
    "comp_table.iloc[6] = uncertainty\n",
    "comp_table.iloc[7] = confidence_level"
   ]
  },
  {
   "cell_type": "code",
   "execution_count": 45,
   "id": "4613302e-de9f-46f6-8886-04f86431164f",
   "metadata": {},
   "outputs": [
    {
     "data": {
      "text/html": [
       "<div>\n",
       "<style scoped>\n",
       "    .dataframe tbody tr th:only-of-type {\n",
       "        vertical-align: middle;\n",
       "    }\n",
       "\n",
       "    .dataframe tbody tr th {\n",
       "        vertical-align: top;\n",
       "    }\n",
       "\n",
       "    .dataframe thead th {\n",
       "        text-align: right;\n",
       "    }\n",
       "</style>\n",
       "<table border=\"1\" class=\"dataframe\">\n",
       "  <thead>\n",
       "    <tr style=\"text-align: right;\">\n",
       "      <th></th>\n",
       "      <th>Scenario 1</th>\n",
       "      <th>Scenario 2</th>\n",
       "      <th>Scenario 3</th>\n",
       "      <th>Scenario 4</th>\n",
       "    </tr>\n",
       "  </thead>\n",
       "  <tbody>\n",
       "    <tr>\n",
       "      <th>x mean</th>\n",
       "      <td>75.024839</td>\n",
       "      <td>10.986452</td>\n",
       "      <td>5.368387</td>\n",
       "      <td>2.700645</td>\n",
       "    </tr>\n",
       "    <tr>\n",
       "      <th>y mean</th>\n",
       "      <td>91.105806</td>\n",
       "      <td>55.889355</td>\n",
       "      <td>15.899355</td>\n",
       "      <td>13.826129</td>\n",
       "    </tr>\n",
       "    <tr>\n",
       "      <th>mean</th>\n",
       "      <td>141.182083</td>\n",
       "      <td>58.958406</td>\n",
       "      <td>17.780358</td>\n",
       "      <td>14.42303</td>\n",
       "    </tr>\n",
       "    <tr>\n",
       "      <th>x std</th>\n",
       "      <td>109.661745</td>\n",
       "      <td>11.965918</td>\n",
       "      <td>3.97351</td>\n",
       "      <td>2.575585</td>\n",
       "    </tr>\n",
       "    <tr>\n",
       "      <th>y std</th>\n",
       "      <td>43.115741</td>\n",
       "      <td>41.48155</td>\n",
       "      <td>12.824732</td>\n",
       "      <td>6.333253</td>\n",
       "    </tr>\n",
       "    <tr>\n",
       "      <th>std</th>\n",
       "      <td>87.642264</td>\n",
       "      <td>40.303907</td>\n",
       "      <td>12.024117</td>\n",
       "      <td>6.070941</td>\n",
       "    </tr>\n",
       "    <tr>\n",
       "      <th>uncertainty</th>\n",
       "      <td>15.741015</td>\n",
       "      <td>7.238795</td>\n",
       "      <td>2.159595</td>\n",
       "      <td>1.090373</td>\n",
       "    </tr>\n",
       "    <tr>\n",
       "      <th>confidence level</th>\n",
       "      <td>32.269081</td>\n",
       "      <td>14.839531</td>\n",
       "      <td>4.42717</td>\n",
       "      <td>2.235265</td>\n",
       "    </tr>\n",
       "  </tbody>\n",
       "</table>\n",
       "</div>"
      ],
      "text/plain": [
       "                  Scenario 1 Scenario 2 Scenario 3 Scenario 4\n",
       "x mean             75.024839  10.986452   5.368387   2.700645\n",
       "y mean             91.105806  55.889355  15.899355  13.826129\n",
       "mean              141.182083  58.958406  17.780358   14.42303\n",
       "x std             109.661745  11.965918    3.97351   2.575585\n",
       "y std              43.115741   41.48155  12.824732   6.333253\n",
       "std                87.642264  40.303907  12.024117   6.070941\n",
       "uncertainty        15.741015   7.238795   2.159595   1.090373\n",
       "confidence level   32.269081  14.839531    4.42717   2.235265"
      ]
     },
     "execution_count": 45,
     "metadata": {},
     "output_type": "execute_result"
    }
   ],
   "source": [
    "# Show the table\n",
    "comp_table"
   ]
  }
 ],
 "metadata": {
  "kernelspec": {
   "display_name": "Python 3 (ipykernel)",
   "language": "python",
   "name": "python3"
  },
  "language_info": {
   "codemirror_mode": {
    "name": "ipython",
    "version": 3
   },
   "file_extension": ".py",
   "mimetype": "text/x-python",
   "name": "python",
   "nbconvert_exporter": "python",
   "pygments_lexer": "ipython3",
   "version": "3.10.6"
  }
 },
 "nbformat": 4,
 "nbformat_minor": 5
}
